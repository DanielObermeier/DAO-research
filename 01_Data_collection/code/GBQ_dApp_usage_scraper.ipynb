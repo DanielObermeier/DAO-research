{
 "cells": [
  {
   "attachments": {},
   "cell_type": "markdown",
   "metadata": {},
   "source": [
    "# dApp usage\n",
    "\n",
    "This script downloads usage data for a given set of dApp contract addresses from Google Big Query. "
   ]
  },
  {
   "cell_type": "code",
   "execution_count": null,
   "metadata": {},
   "outputs": [],
   "source": [
    "from ast import literal_eval\n",
    "import pandas as pd"
   ]
  },
  {
   "attachments": {},
   "cell_type": "markdown",
   "metadata": {},
   "source": [
    "# Create a data file to be uploaded as a table to GBQ"
   ]
  },
  {
   "cell_type": "markdown",
   "metadata": {},
   "source": [
    "## all dApps from DAppRadar"
   ]
  },
  {
   "cell_type": "code",
   "execution_count": null,
   "metadata": {},
   "outputs": [],
   "source": [
    "# load the csv using the converters parameter with literal_eval\n",
    "df_dapp_contracts = pd.read_csv(r\"ethereum.csv\", sep=\";\", converters={'data': literal_eval})\n",
    "\n",
    "# normalize the data column, join it to dapp name and drop the data column\n",
    "df_dapp_contracts = df_dapp_contracts.join(pd.json_normalize(df_dapp_contracts.data), rsuffix=\"_r\").drop(columns=['data_r']).drop(columns=['data'])\n",
    "\n",
    "# explode list of contracts into rows\n",
    "df_dapp_contracts = df_dapp_contracts.explode(\"smart_contracts\")\n",
    "\n",
    "# create dApp contract link dataset\n",
    "df_dapp_contracts = df_dapp_contracts[[\"name\", \"DAO_space_id\", \"smart_contracts\"]]\n",
    "\n",
    "# reset index\n",
    "df_dapp_contracts = df_dapp_contracts.reset_index(drop=True)"
   ]
  },
  {
   "attachments": {},
   "cell_type": "markdown",
   "metadata": {},
   "source": [
    "## dApps with DAO\n",
    "\n",
    "I manually added a column to the dataset scraped from dApp radar. This column indicates the name of the DAO associated with a dApp if one exists. \n"
   ]
  },
  {
   "cell_type": "code",
   "execution_count": null,
   "metadata": {},
   "outputs": [],
   "source": [
    "# load the csv using the converters parameter with literal_eval\n",
    "df_dapp_dao_contracts = pd.read_csv(r\"ethereum_dapps_with_daos.csv\", sep=\";\", converters={'data': literal_eval})\n",
    "\n",
    "# normalize the data column, join it to dapp name and drop the data column\n",
    "df_dapp_dao_contracts = df_dapp_dao_contracts.join(pd.json_normalize(df_dapp_dao_contracts.data), rsuffix=\"_r\").drop(columns=['data_r']).drop(columns=['data'])\n",
    "\n",
    "# explode list of contracts into rows\n",
    "df_dapp_dao_contracts = df_dapp_dao_contracts.explode(\"smart_contracts\")\n",
    "\n",
    "# create dApp contract link dataset\n",
    "df_dapp_dao_contracts = df_dapp_dao_contracts[[\"name\", \"DAO_space_id\", \"smart_contracts\"]]\n",
    "\n",
    "# reset index\n",
    "df_dapp_dao_contracts = df_dapp_dao_contracts.reset_index(drop=True)"
   ]
  },
  {
   "cell_type": "code",
   "execution_count": null,
   "metadata": {},
   "outputs": [],
   "source": [
    "# save file as csv (this file can be manually uploaded to GBQ if the automated upload does not work)\n",
    "df_dapp_dao_contracts.to_csv(\"ethereum_dapp_dao_contract_link.csv\", sep=',', index=False)"
   ]
  },
  {
   "attachments": {},
   "cell_type": "markdown",
   "metadata": {},
   "source": [
    "# Query the newly created table and join the daily transaction history"
   ]
  }
 ],
 "metadata": {
  "kernelspec": {
   "display_name": "base",
   "language": "python",
   "name": "python3"
  },
  "language_info": {
   "codemirror_mode": {
    "name": "ipython",
    "version": 3
   },
   "file_extension": ".py",
   "mimetype": "text/x-python",
   "name": "python",
   "nbconvert_exporter": "python",
   "pygments_lexer": "ipython3",
   "version": "3.8.8 (default, Apr 13 2021, 15:08:03) [MSC v.1916 64 bit (AMD64)]"
  },
  "orig_nbformat": 4,
  "vscode": {
   "interpreter": {
    "hash": "dc2398d343488ebfa594e654723f4d912c80550bd15e09b8e71b32ca9e80d13c"
   }
  }
 },
 "nbformat": 4,
 "nbformat_minor": 2
}
