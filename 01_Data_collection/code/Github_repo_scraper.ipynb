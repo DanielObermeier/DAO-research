{
 "cells": [
  {
   "attachments": {},
   "cell_type": "markdown",
   "metadata": {},
   "source": [
    "# dApps' Github Repo Scraper\n",
    "\n",
    "This scraper takes a list of Ethereum dApps, tries to find their Github projects, and returns the project's meta data"
   ]
  },
  {
   "attachments": {},
   "cell_type": "markdown",
   "metadata": {},
   "source": [
    "## 1. Finding Github Projects"
   ]
  },
  {
   "cell_type": "code",
   "execution_count": 1,
   "metadata": {},
   "outputs": [],
   "source": [
    "from ast import literal_eval\n",
    "import pandas as pd"
   ]
  },
  {
   "attachments": {},
   "cell_type": "markdown",
   "metadata": {},
   "source": [
    "### 1.1 Import dApp names "
   ]
  },
  {
   "cell_type": "code",
   "execution_count": 2,
   "metadata": {},
   "outputs": [
    {
     "data": {
      "text/plain": [
       "0                         OpenSea\n",
       "1                      Uniswap V2\n",
       "2                      Uniswap V3\n",
       "3                   MetaMask Swap\n",
       "4                             Gem\n",
       "                  ...            \n",
       "3409                      LatiumX\n",
       "3410    Mecenate Fine Art Gallery\n",
       "3411                   NESTFI-Win\n",
       "3412                        rhino\n",
       "3413               TomorrowsPrice\n",
       "Name: name, Length: 3414, dtype: object"
      ]
     },
     "execution_count": 2,
     "metadata": {},
     "output_type": "execute_result"
    }
   ],
   "source": [
    "# load the csv using the converters parameter with literal_eval\n",
    "df_dapps = pd.read_csv(r\"ethereum.csv\", sep=\",\", converters={'data': literal_eval}, index_col=0)\n",
    "\n",
    "# get list of dapp names\n",
    "df_dapps.name"
   ]
  },
  {
   "attachments": {},
   "cell_type": "markdown",
   "metadata": {},
   "source": [
    "### 1.2 Search for Github projects on DuckDuckGo "
   ]
  },
  {
   "attachments": {},
   "cell_type": "markdown",
   "metadata": {},
   "source": [
    "Initiated a webdriver instance"
   ]
  },
  {
   "cell_type": "code",
   "execution_count": 3,
   "metadata": {},
   "outputs": [
    {
     "data": {
      "text/plain": [
       "'try:\\n    driver.get(\"https://duckduckgo.com/\")\\nexcept:\\n    print(\"webdriver failure\")'"
      ]
     },
     "execution_count": 3,
     "metadata": {},
     "output_type": "execute_result"
    }
   ],
   "source": [
    "# this function uses selenium and chromedriver to search startpage for name, company, and \"linkedin\"\n",
    "\n",
    "from selenium import webdriver\n",
    "from selenium.webdriver.common.keys import Keys\n",
    "from selenium.webdriver.chrome.options import Options\n",
    "import os\n",
    "import time\n",
    "from selenium.webdriver.common.by import By\n",
    "from random import randrange, uniform\n",
    "\n",
    "# Init webdriver - webdriver is initiated outside of the function to increase speed\n",
    "\"\"\"\n",
    "    # Init webdriver headless to increase performance\n",
    "# get path of webdriver\n",
    "chrome_driver = webdriver.Chrome(\"D:/Drive/01_Promotion/31_Code/01_Python/GitHub Readme/chromedriver.exe\")\n",
    "    # set options of webdriver to headless\n",
    "chrome_options = Options()\n",
    "chrome_options.add_argument(\"--headless\")\n",
    "    # set screensize to 1920x1080\n",
    "chrome_options.add_argument(\"--window-size=1920x1080\")\n",
    "\"\"\"\n",
    "\n",
    "#driver = webdriver.Chrome(chrome_options=chrome_options, executable_path=chrome_driver)\n",
    "\n",
    "    # Init webdriver normally to see mistakes\n",
    "driver = webdriver.Chrome(\"chromedriver.exe\")\n",
    "driver.maximize_window()\n",
    "\n",
    "\n",
    "# navigate webdriver\n",
    "\"\"\"try:\n",
    "    driver.get(\"https://duckduckgo.com/\")\n",
    "except:\n",
    "    print(\"webdriver failure\")\"\"\""
   ]
  },
  {
   "attachments": {},
   "cell_type": "markdown",
   "metadata": {},
   "source": [
    "Search on startpage"
   ]
  },
  {
   "cell_type": "code",
   "execution_count": 4,
   "metadata": {},
   "outputs": [],
   "source": [
    "# define find github project name function\n",
    "\n",
    "def find_github(dapp_name):\n",
    "    \"\"\"\n",
    "    This function takes a dApp name as an argument and searches for github projects with a similar name. It returns the three most often found project names\n",
    "\n",
    "    Args:\n",
    "    dapp_name(str): name of a dApp \n",
    "    Returns\n",
    "    dapp_dict(dict): dictonary containing name of the dapp and three most often found github project names \n",
    "    \"\"\"\n",
    "\n",
    "    # import libraries\n",
    "    import time\n",
    "    from random import randrange, uniform\n",
    "    from collections import Counter\n",
    "    \n",
    "    # ini\n",
    "    github_links = []\n",
    "    dapp_dict = {}\n",
    "    \n",
    "    # navigate webdriver to duckduckgo search engine\n",
    "    try:\n",
    "        driver.get(\"https://duckduckgo.com/\")\n",
    "    except:\n",
    "        print(\"webdriver failure\")\n",
    "\n",
    "    try:\n",
    "        search = driver.find_element(By.ID, \"search_form_input_homepage\")\n",
    "    except:\n",
    "        print(\"could not find search bar\")\n",
    "\n",
    "\n",
    "    # search for dapp name and github\n",
    "    try:\n",
    "        search.send_keys(Keys.CONTROL, 'a')\n",
    "        search.send_keys(Keys.BACKSPACE)\n",
    "        time.sleep(uniform(0.5,0.7))\n",
    "        search.send_keys(dapp_name+\",\"+\"github\") #enter search terms here\n",
    "        search.send_keys(Keys.RETURN)\n",
    "    except:\n",
    "        print(\"could not enter search terms\")\n",
    "\n",
    "    time.sleep(uniform(1.2, 1.9))\n",
    "\n",
    "\n",
    "    # process results page\n",
    "    try:\n",
    "        results = driver.find_element(By.ID, \"links\")\n",
    "    except:\n",
    "        print(\"could not access results page\")\n",
    "\n",
    "    # find all hrefs in table\n",
    "    #hrefs = results.find_elements(By.XPATH, \"//a[@href]\")\n",
    "    try:\n",
    "        hrefs = results.find_elements(By.TAG_NAME, \"a\")\n",
    "    except:\n",
    "        print(\"could not find a tags\")\n",
    "\n",
    "    for href in hrefs:\n",
    "        if href.get_attribute(\"href\")[0:len(\"https://github.com/\")] == \"https://github.com/\":\n",
    "            github_links.append(href.get_attribute(\"href\").split(\"/\")[3])\n",
    "\n",
    "    # extract most often found project names\n",
    "    most_common = Counter(github_links).most_common(3)\n",
    "\n",
    "    # create dict to return\n",
    "    dapp_dict[\"dapp_name\"] = dapp_name\n",
    "    if len(most_common) >= 1:\n",
    "        dapp_dict[\"github_1\"] = most_common[0][0]\n",
    "    else:\n",
    "        dapp_dict[\"github_1\"] = \"\"\n",
    "\n",
    "    if len(most_common) >= 2:\n",
    "        dapp_dict[\"github_2\"] = most_common[1][0]\n",
    "    else:\n",
    "        dapp_dict[\"github_2\"] = \"\"\n",
    "\n",
    "    if len(most_common) >= 3:\n",
    "        dapp_dict[\"github_3\"] = most_common[2][0]\n",
    "    else:\n",
    "        dapp_dict[\"github_3\"] = \"\"\n",
    "\n",
    "    # return final result\n",
    "    return dapp_dict\n"
   ]
  },
  {
   "attachments": {},
   "cell_type": "markdown",
   "metadata": {},
   "source": [
    "Test function with a single dApp name"
   ]
  },
  {
   "cell_type": "code",
   "execution_count": 104,
   "metadata": {},
   "outputs": [],
   "source": [
    "dapp_name = \"Uniswap V2\"\n",
    "\n",
    "test = find_github(dapp_name)"
   ]
  },
  {
   "attachments": {},
   "cell_type": "markdown",
   "metadata": {},
   "source": [
    "Loop through list of dApps and store the resulting github projects in a data frame"
   ]
  },
  {
   "cell_type": "code",
   "execution_count": 5,
   "metadata": {},
   "outputs": [],
   "source": [
    "# looping through all dapps takes ~220 min\n",
    "# init an empty list to store the returned dicts\n",
    "dapp_dict_list = []\n",
    "i = 0\n",
    "\n",
    "# loop through list of dapps and create dicts\n",
    "for dapp in df_dapps.name:\n",
    "    try:\n",
    "        dapp_dict_list.append(find_github(dapp))\n",
    "    except:\n",
    "        print(\"could not retrieve results for: \"+dapp+ \" @: \"+str(i))\n",
    "    i += 1\n",
    "\n",
    "df_dapps_github = pd.DataFrame.from_dict(dapp_dict_list)\n",
    "\n",
    "df_dapps_github.to_csv(\"dapps_github.csv\", sep = \";\")"
   ]
  },
  {
   "attachments": {},
   "cell_type": "markdown",
   "metadata": {},
   "source": [
    "Instead of using duckduckgo, we can also use google. But for goole we need to adjust the html elements.\n",
    "We dont use google as it has a more strickt bot protection. "
   ]
  },
  {
   "cell_type": "code",
   "execution_count": 53,
   "metadata": {},
   "outputs": [],
   "source": [
    "# search google\n",
    "driver.get(\"https://www.google.com/\")\n",
    "search = driver.find_element(By.NAME, \"q\")\n",
    "\n",
    "\n",
    "dapp_name = \"Uniswap V2\"\n",
    "search.send_keys(Keys.CONTROL, 'a')\n",
    "search.send_keys(Keys.BACKSPACE)\n",
    "time.sleep(uniform(0.5,0.7))\n",
    "search.send_keys(dapp_name+\",\"+\"github\") #enter search terms here\n",
    "search.send_keys(Keys.RETURN)"
   ]
  },
  {
   "attachments": {},
   "cell_type": "markdown",
   "metadata": {},
   "source": [
    "Manual verification of github project names is required"
   ]
  },
  {
   "cell_type": "code",
   "execution_count": null,
   "metadata": {},
   "outputs": [],
   "source": []
  },
  {
   "attachments": {},
   "cell_type": "markdown",
   "metadata": {},
   "source": []
  },
  {
   "attachments": {},
   "cell_type": "markdown",
   "metadata": {},
   "source": [
    "## 2. Retrieving Project Meta Data from Github"
   ]
  },
  {
   "attachments": {},
   "cell_type": "markdown",
   "metadata": {},
   "source": [
    "authenticate with Github API"
   ]
  },
  {
   "cell_type": "code",
   "execution_count": 56,
   "metadata": {},
   "outputs": [],
   "source": [
    "from dotenv import load_dotenv, find_dotenv\n",
    "import requests\n",
    "import json\n",
    "\n",
    "# load github credentials from .env\n",
    "load_dotenv()\n",
    "\n",
    "USER_NAME = os.getenv(\"USER_NAME\")\n",
    "TOKEN = os.getenv(\"TOKEN\")\n"
   ]
  },
  {
   "cell_type": "code",
   "execution_count": 57,
   "metadata": {},
   "outputs": [],
   "source": [
    "# function to get github meta data for dApps\n",
    "\n",
    "def get_dapp_github_info(dapp_name, dapp_github_name, USER_NAME, TOKEN):\n",
    "    \"\"\" \n",
    "    This function takes the github space name of a dapp and retrieves the number of repositories, followers, and members as a dict\n",
    "\n",
    "    Args:\n",
    "    dapp_name (str): name of the dapp\n",
    "    dapp_github_name (str): dapp's github org name\n",
    "    USER_NAME (str): github username from .env\n",
    "    TOKEN (str): github API key from .env\n",
    "\n",
    "    Returns:\n",
    "    dapp_github_dict (dict): dict with dapp name, dapp's github name, count of repos, count of followers, count of members \n",
    "    \"\"\"\n",
    "\n",
    "    #import libraries\n",
    "    import requests\n",
    "    import json\n",
    "\n",
    "    # init empty dict to return\n",
    "    dapp_github_dict = {}\n",
    "\n",
    "    # get organization info \n",
    "    req = requests.get(\"https://api.github.com/orgs/\"+dapp_github_name, auth=(USER_NAME,TOKEN))\n",
    "\n",
    "    if req.status_code == 200:\n",
    "        \n",
    "        r_dict = json.loads(req.text)\n",
    "\n",
    "    else:\n",
    "        print(req.status_code)\n",
    "\n",
    "    # store results in dict\n",
    "    dapp_github_dict[\"dapp_name\"] = dapp_name\n",
    "    dapp_github_dict[\"dapp_github_name\"] = dapp_github_name\n",
    "\n",
    "    # get number of repos\n",
    "    dapp_github_dict[\"public_repos\"] = r_dict[\"public_repos\"]\n",
    "\n",
    "\n",
    "    # get number of followers\n",
    "    dapp_github_dict[\"followers\"] = r_dict[\"followers\"]\n",
    "\n",
    "\n",
    "    # get members \n",
    "    req = requests.get(\" https://api.github.com/orgs/\"+dapp_github_name+\"/members\", auth=(USER_NAME,TOKEN))\n",
    "    if req.status_code == 200:\n",
    "        r_dict = json.loads(req.text)\n",
    "    else:\n",
    "        print(\"could not get members; status code: \"+str(req.status_code))\n",
    "\n",
    "    dapp_github_dict[\"members\"] = len(r_dict)\n",
    "\n",
    "\n",
    "    return dapp_github_dict\n",
    " "
   ]
  },
  {
   "cell_type": "code",
   "execution_count": 58,
   "metadata": {},
   "outputs": [],
   "source": [
    "dapp_name = \"Uniswap V2\"\n",
    "dapp_github_name = \"Uniswap\"\n",
    "\n",
    "test = get_dapp_github_info(dapp_name, dapp_github_name, USER_NAME, TOKEN)"
   ]
  },
  {
   "attachments": {},
   "cell_type": "markdown",
   "metadata": {},
   "source": [
    "## This will take a lot of time"
   ]
  },
  {
   "attachments": {},
   "cell_type": "markdown",
   "metadata": {},
   "source": [
    "get all repositories"
   ]
  },
  {
   "cell_type": "code",
   "execution_count": 40,
   "metadata": {},
   "outputs": [],
   "source": [
    "# \n",
    "req = requests.get(\"https://api.github.com/orgs/Uniswap/repos?per_page=100\", auth=(USER_NAME,TOKEN))\n",
    "\n",
    "if req.status_code == 200:\n",
    "    \n",
    "    r_dict = json.loads(req.text)\n",
    "\n",
    "else:\n",
    "    print(req.status_code)"
   ]
  },
  {
   "attachments": {},
   "cell_type": "markdown",
   "metadata": {},
   "source": [
    "get one repository"
   ]
  },
  {
   "cell_type": "code",
   "execution_count": null,
   "metadata": {},
   "outputs": [],
   "source": [
    "https://api.github.com/repos/OWNER/REPO"
   ]
  },
  {
   "attachments": {},
   "cell_type": "markdown",
   "metadata": {},
   "source": [
    "get members of an organization"
   ]
  },
  {
   "cell_type": "code",
   "execution_count": null,
   "metadata": {},
   "outputs": [],
   "source": [
    "  https://api.github.com/orgs/ORG/members"
   ]
  },
  {
   "attachments": {},
   "cell_type": "markdown",
   "metadata": {},
   "source": [
    "get commits from repo"
   ]
  },
  {
   "cell_type": "code",
   "execution_count": null,
   "metadata": {},
   "outputs": [],
   "source": [
    "# \"https://api.github.com/repos/torvalds/linux/commits\"\n",
    "req = requests.get(\"https://api.github.com/repos/torvalds/commits\", auth=(USER_NAME,TOKEN))\n",
    "\n",
    "if req.status_code == 200:\n",
    "    \n",
    "    r_dict = json.loads(req.text)"
   ]
  },
  {
   "attachments": {},
   "cell_type": "markdown",
   "metadata": {},
   "source": [
    "variables to query:\n",
    "- number of participats\n",
    "- number of forcs\n",
    "- stars/watchers\n",
    "\n",
    "- commit history"
   ]
  },
  {
   "attachments": {},
   "cell_type": "markdown",
   "metadata": {},
   "source": [
    "Authenticate with Github API"
   ]
  },
  {
   "cell_type": "code",
   "execution_count": null,
   "metadata": {},
   "outputs": [],
   "source": [
    "req <- GET(\"https://api.github.com/repos/torvalds/linux/commits\", config=gtoken)"
   ]
  }
 ],
 "metadata": {
  "kernelspec": {
   "display_name": "base",
   "language": "python",
   "name": "python3"
  },
  "language_info": {
   "codemirror_mode": {
    "name": "ipython",
    "version": 3
   },
   "file_extension": ".py",
   "mimetype": "text/x-python",
   "name": "python",
   "nbconvert_exporter": "python",
   "pygments_lexer": "ipython3",
   "version": "3.8.8"
  },
  "orig_nbformat": 4,
  "vscode": {
   "interpreter": {
    "hash": "dc2398d343488ebfa594e654723f4d912c80550bd15e09b8e71b32ca9e80d13c"
   }
  }
 },
 "nbformat": 4,
 "nbformat_minor": 2
}
